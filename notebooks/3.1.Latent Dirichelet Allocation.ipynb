{
 "cells": [
  {
   "cell_type": "markdown",
   "id": "extraordinary-domain",
   "metadata": {},
   "source": [
    "## Intro\n",
    "\n",
    "\n",
    "The Latent Dirichlet Allocation approach is an unsupervised method used\n",
    "for Topic Modelling that is supported in two main considerations: (1)\n",
    "Documents that have similar words must have similar topics; (2)\n",
    "Documents that have groups of words frequently occurring together\n",
    "usually have the same topic. LDA is a fuzzy clustering method that\n",
    "provides a value that reflects the membership of the sentence into a\n",
    "specific topic. The clustering process is performed based on the\n",
    "adequacy of a sentence to a generated corpus.\n",
    "\n",
    "![Caption](Figures/lda.png)\n",
    "\n",
    "The LDA process generates documents based on a probability modulated by\n",
    "the number of topics and words present in documents. This probability\n",
    "has the following equation:\n",
    "\n",
    "$$P(w,z,\\theta, \\phi, \\alpha, \\beta) = \\Pi_{j=1}^M P(\\theta_j;\\alpha) \\Pi_{i=1}^K P(\\phi_i;\\beta) \\Pi_{t=1}^N P(Z_{j,t}|\\theta_j)P(w_{j,t}|\\phi_{j,t})$$\n",
    "\n",
    ", being *w* a set of words and *z* a list of topics $\\alpha$ and $\\beta$\n",
    "are Dirichlet distributions, associated with Documents, Topics and\n",
    "Words. In the first case, the Dirichlet distribution evaluates the\n",
    "probability of a document belonging to a specific Topic, while the\n",
    "second evaluates the probability of a topic being associated with a\n",
    "word. The triangles can help visualize these distributions. The blue\n",
    "triangle has topics as edges, while documents as elements. The closer\n",
    "the words are from the edges, the closer these are related to that\n",
    "topic. In the other hand, the yellow tetrahedron has words as edges,\n",
    "while topics as elements. The $\\theta$ and $\\phi$ parameters are\n",
    "associated with multinomial distributions corresponding to topics and\n",
    "words, respectively. From these distributions, words and topics are\n",
    "generated and combined to generate a document. The documents are\n",
    "generated based on the arrangement between document-topics probabilities\n",
    "and topic-words probabilities. The generated document that maximizes the\n",
    "probability and best fit the inputted document will be classified based\n",
    "on the arrangement, and be assigned a membership probability to each\n",
    "topic.\n",
    "\n",
    "The LDA typically accepts a *BoW* model, from which it derives the\n",
    "topics to which documents are associated based on the words that these\n",
    "contain."
   ]
  },
  {
   "cell_type": "code",
   "execution_count": 24,
   "id": "lesbian-lobby",
   "metadata": {},
   "outputs": [],
   "source": [
    "from sklearn.feature_extraction.text import CountVectorizer\n",
    "import matplotlib.pyplot as plt"
   ]
  },
  {
   "cell_type": "code",
   "execution_count": 19,
   "id": "sufficient-membership",
   "metadata": {},
   "outputs": [
    {
     "data": {
      "text/plain": [
       "['alt.atheism', 'comp.graphics', 'soc.religion.christian']"
      ]
     },
     "execution_count": 19,
     "metadata": {},
     "output_type": "execute_result"
    }
   ],
   "source": [
    "#Loading a dataset\n",
    "categories = ['alt.atheism', 'soc.religion.christian', \"comp.graphics\"]\n",
    "\n",
    "from sklearn.datasets import fetch_20newsgroups\n",
    "\n",
    "train_dataset = fetch_20newsgroups(subset=\"train\", categories=categories, shuffle=True, random_state=42)\n",
    "train_dataset.target_names"
   ]
  },
  {
   "cell_type": "code",
   "execution_count": 8,
   "id": "miniature-bridges",
   "metadata": {},
   "outputs": [],
   "source": [
    "count_vect = CountVectorizer(max_df=0.8, min_df=2, stop_words='english')\n",
    "doc_term_matrix = count_vect.fit_transform(train_dataset.data)"
   ]
  },
  {
   "cell_type": "code",
   "execution_count": 9,
   "id": "occupational-breeding",
   "metadata": {},
   "outputs": [
    {
     "data": {
      "text/plain": [
       "LatentDirichletAllocation(n_components=3, random_state=42)"
      ]
     },
     "execution_count": 9,
     "metadata": {},
     "output_type": "execute_result"
    }
   ],
   "source": [
    "from sklearn.decomposition import LatentDirichletAllocation\n",
    "\n",
    "LDA = LatentDirichletAllocation(n_components=3, random_state=42)\n",
    "LDA.fit(doc_term_matrix)"
   ]
  },
  {
   "cell_type": "code",
   "execution_count": 35,
   "id": "objective-contemporary",
   "metadata": {},
   "outputs": [
    {
     "name": "stdout",
     "output_type": "stream",
     "text": [
      "[0 2 2 0 1 1 2 1 1 0]\n"
     ]
    },
    {
     "data": {
      "image/png": "[encoded data removed]",
      "text/plain": [
       "<Figure size 432x288 with 1 Axes>"
      ]
     },
     "metadata": {
      "needs_background": "light"
     },
     "output_type": "display_data"
    }
   ],
   "source": [
    "# for i,topic in enumerate(LDA.components_):\n",
    "#     print(f'Top 10 words for topic #{i}:')\n",
    "#     print([count_vect.get_feature_names()[i] for i in topic.argsort()[-10:]])\n",
    "#     print('\\n')\n",
    "\n",
    "topic_values = LDA.transform(doc_term_matrix)\n",
    "# labels = range(len(topic_values))\n",
    "labels = range(10)\n",
    "\n",
    "fig, ax = plt.subplots()\n",
    "\n",
    "ax.bar(labels, topic_values[:10,0], 1)\n",
    "ax.bar(labels, topic_values[:10,1], 1)\n",
    "ax.bar(labels, topic_values[:10,2], 1)\n",
    "print(train_dataset.target[:10])"
   ]
  },
  {
   "cell_type": "markdown",
   "id": "political-spokesman",
   "metadata": {},
   "source": [
    "#### Very good! It was able to differentiate and classify the text of each group very well in these 10 first samples. It mostly has problems in separating class orange of class green, which are atheism and religion."
   ]
  },
  {
   "cell_type": "markdown",
   "id": "urban-virginia",
   "metadata": {},
   "source": [
    "\n"
   ]
  },
  {
   "cell_type": "markdown",
   "id": "pressing-quick",
   "metadata": {},
   "source": [
    "## References\n",
    "\n",
    "\n",
    "- https://stackabuse.com/python-for-nlp-developing-an-automatic-text-filler-using-n-grams/\n",
    "- https://www.kdnuggets.com/2019/09/overview-topics-extraction-python-latent-dirichlet-allocation.html\n",
    "- "
   ]
  },
  {
   "cell_type": "code",
   "execution_count": null,
   "id": "wicked-fifteen",
   "metadata": {},
   "outputs": [],
   "source": []
  }
 ],
 "metadata": {
  "kernelspec": {
   "display_name": "Python 3",
   "language": "python",
   "name": "python3"
  },
  "language_info": {
   "codemirror_mode": {
    "name": "ipython",
    "version": 3
   },
   "file_extension": ".py",
   "mimetype": "text/x-python",
   "name": "python",
   "nbconvert_exporter": "python",
   "pygments_lexer": "ipython3",
   "version": "3.8.0"
  }
 },
 "nbformat": 4,
 "nbformat_minor": 5
}
