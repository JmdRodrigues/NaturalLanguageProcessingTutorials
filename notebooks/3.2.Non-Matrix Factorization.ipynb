{
 "cells": [
  {
   "cell_type": "markdown",
   "id": "balanced-conducting",
   "metadata": {},
   "source": [
    "# Intro\n",
    "\n",
    "The problem of Text classification can also be solved with Non-Negative\n",
    "Matrix Factorization (NMF). Generaly, NMF is a strategy employed to\n",
    "reduce the dimension of feature matrices, for source separation or even\n",
    "topic extraction. In the context of NLP, it is widely use for topic\n",
    "modelling, by decomposing the *BoW* or *Tfidf* models into two smaller\n",
    "matrices that have associate *Documents* and *Words* with *Topics*.\n",
    "Therefore, from an original $Document \\times Words$ matrix, a result of\n",
    "$Document \\times Topics$ and $Words \\times Terms$ is generated. From\n",
    "this separation, just as with LDA, an association between documents and\n",
    "topics, as well as words and topics, is made.\n",
    "\n",
    "![Non Negative Matrix Factorization process to reach Topic Encoded\n",
    "matrices. $A$ is the BoW/TFIDF matrix which can be decomposed into $W$\n",
    "and $H$. These show the relationship of documents and words with topics,\n",
    "respectively.](../Figures/NMF.png)\n",
    "\n",
    "The process of NMF is to find two non-negative matrices *(W, H)* that\n",
    "when multiplied approximate the non-negative matrix *A*. The guiding\n",
    "function has the purpose of minimizing the following objective function:\n",
    "\n",
    "$$\\|A-WH\\|^2$$\n",
    "\n",
    "In order to solve this minimization problem, the process follows a\n",
    "multiplicative-update solver, with an alterning minimization of W and H."
   ]
  },
  {
   "cell_type": "code",
   "execution_count": 2,
   "id": "union-township",
   "metadata": {},
   "outputs": [],
   "source": [
    "from sklearn.decomposition import NMF\n",
    "from sklearn.feature_extraction.text import TfidfVectorizer, CountVectorizer\n",
    "import matplotlib.pyplot as plt\n",
    "from sklearn.datasets import fetch_20newsgroups"
   ]
  },
  {
   "cell_type": "code",
   "execution_count": 28,
   "id": "beneficial-retail",
   "metadata": {},
   "outputs": [
    {
     "data": {
      "text/plain": [
       "['alt.atheism', 'comp.graphics', 'soc.religion.christian']"
      ]
     },
     "execution_count": 28,
     "metadata": {},
     "output_type": "execute_result"
    }
   ],
   "source": [
    "#Loading a dataset\n",
    "categories = ['alt.atheism', 'soc.religion.christian', \"comp.graphics\"]\n",
    "\n",
    "from sklearn.datasets import fetch_20newsgroups\n",
    "\n",
    "train_dataset = fetch_20newsgroups(subset=\"train\", categories=categories, shuffle=True, random_state=42)\n",
    "train_dataset.target_names"
   ]
  },
  {
   "cell_type": "code",
   "execution_count": null,
   "id": "southern-smith",
   "metadata": {},
   "outputs": [],
   "source": []
  },
  {
   "cell_type": "code",
   "execution_count": 29,
   "id": "coral-brazil",
   "metadata": {},
   "outputs": [
    {
     "name": "stdout",
     "output_type": "stream",
     "text": [
      "Extracting tf-idf features for NMF...\n"
     ]
    }
   ],
   "source": [
    "n_samples = 2000\n",
    "n_features = 1000\n",
    "n_components = 3\n",
    "n_top_words = 20\n",
    "\n",
    "# Use tf-idf features for NMF.\n",
    "print(\"Extracting tf-idf features for NMF...\")\n",
    "tfidf_vect = TfidfVectorizer(max_df=0.95, min_df=2,\n",
    "                                   max_features=n_features,\n",
    "                                   stop_words='english')\n",
    "\n",
    "tfidf = tfidf_vect.fit_transform(train_dataset.data)"
   ]
  },
  {
   "cell_type": "code",
   "execution_count": 30,
   "id": "systematic-distance",
   "metadata": {},
   "outputs": [
    {
     "name": "stderr",
     "output_type": "stream",
     "text": [
      "c:\\users\\biosignals3\\appdata\\local\\programs\\python\\python38\\lib\\site-packages\\sklearn\\decomposition\\_nmf.py:312: FutureWarning: The 'init' value, when 'init=None' and n_components is less than n_samples and n_features, will be changed from 'nndsvd' to 'nndsvda' in 1.1 (renaming of 0.26).\n",
      "  warnings.warn((\"The 'init' value, when 'init=None' and \"\n"
     ]
    }
   ],
   "source": [
    "nmf = NMF(n_components=n_components, random_state=1,\n",
    "          alpha=.1, l1_ratio=.5).fit(tfidf)\n",
    "\n",
    "topic_values = nmf.transform(tfidf)\n",
    "pred = topic_values.argmax(axis=1)"
   ]
  },
  {
   "cell_type": "code",
   "execution_count": 31,
   "id": "higher-plumbing",
   "metadata": {},
   "outputs": [
    {
     "name": "stdout",
     "output_type": "stream",
     "text": [
      "              precision    recall  f1-score   support\n",
      "\n",
      "           0       0.33      0.58      0.42       480\n",
      "           1       0.89      0.98      0.93       584\n",
      "           2       0.00      0.00      0.00       599\n",
      "\n",
      "    accuracy                           0.51      1663\n",
      "   macro avg       0.40      0.52      0.45      1663\n",
      "weighted avg       0.41      0.51      0.45      1663\n",
      "\n"
     ]
    }
   ],
   "source": [
    "from sklearn.metrics import average_precision_score, classification_report\n",
    "\n",
    "y_train = train_dataset.target\n",
    "a = classification_report(y_train, pred)\n",
    "\n",
    "print(a)"
   ]
  },
  {
   "cell_type": "markdown",
   "id": "authentic-gravity",
   "metadata": {},
   "source": [
    "## References\n",
    "\n",
    "- https://www.audiolabs-erlangen.de/resources/MIR/FMP/C8/C8S3_NMFbasic.html"
   ]
  },
  {
   "cell_type": "code",
   "execution_count": null,
   "id": "studied-meaning",
   "metadata": {},
   "outputs": [],
   "source": []
  }
 ],
 "metadata": {
  "kernelspec": {
   "display_name": "Python 3",
   "language": "python",
   "name": "python3"
  },
  "language_info": {
   "codemirror_mode": {
    "name": "ipython",
    "version": 3
   },
   "file_extension": ".py",
   "mimetype": "text/x-python",
   "name": "python",
   "nbconvert_exporter": "python",
   "pygments_lexer": "ipython3",
   "version": "3.8.0"
  }
 },
 "nbformat": 4,
 "nbformat_minor": 5
}
