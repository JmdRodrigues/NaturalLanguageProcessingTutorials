{
 "cells": [
  {
   "cell_type": "markdown",
   "id": "motivated-asbestos",
   "metadata": {},
   "source": [
    "## Intro\n",
    "\n",
    "This technique, such as the previous ones, are mostly used to cluster\n",
    "documents based on their content. To achieve this, it uses the\n",
    "co-occurrences matrix of words. The process involves detecting hidden\n",
    "patterns (Latent) in words to determinate their meaning based on the\n",
    "context (semantic). Similarly to LDA, LSI follows the *maxima* that\n",
    "words that occur in the same context, will have a higher probability of\n",
    "having similar meanings.\n",
    "\n",
    "In this Figure is showed the main process to execute LSI. From a BoW matrix or a TFIDF\n",
    "matrix, we can use a dimension reduction algorithm to extract topic\n",
    "values. It is a similar process to NMF, which also reduces the\n",
    "dimensions, although in this case, the relationship between words and\n",
    "documents is made with singular values, which are related with eigen\n",
    "values. Instead of Principal Component Analysis, Singular Value\n",
    "Decomposition is used, because it works better with sparse matrices.\n",
    "From applying SVD, the result is a topic encoded matrix, with the\n",
    "desired number of components as columns.\n",
    "\n",
    "![Latent Semantic Indexing (LSI) by means of the Singular Value\n",
    "Decomposition (SVD) of the sparse BoW/TFIDF matrix $A$. The resulting\n",
    "$U$ and $V^T$ are the topic encoded matrices from which the relationship\n",
    "between documents and words with topics is defined. The matrix $\\Sigma$\n",
    "is the Singular Matrix with eigenvalues as the\n",
    "diagonal.](../Figures/SVD.png)\n",
    "\n",
    "The LSI is the application of the Singular Value Decomposition, which is\n",
    "a data reduction method based on the consideration that:\n",
    "\n",
    "$$A = U \\Sigma V^T$$\n",
    "\n",
    ", being $A$ any matrix (in this case the sparse matrix of BoW/TFIDF),\n",
    "$U$ the left singular matrix, which provides the relationship between\n",
    "words and topics, and $V^T$ is the right singular matrix, which shows\n",
    "the relationship between documents and topics. The matrix $\\Sigma$ has a\n",
    "diagonal of eigenvalues.\n",
    "This method works better with TFIDF models and the result is a semantic vectorization that can be used to find similarities between sentences or documents. "
   ]
  },
  {
   "cell_type": "code",
   "execution_count": 9,
   "id": "similar-cloud",
   "metadata": {},
   "outputs": [
    {
     "name": "stdout",
     "output_type": "stream",
     "text": [
      "Predicted classification:\n",
      "[0 0 0 0 0 1 1 1 1]\n"
     ]
    },
    {
     "data": {
      "image/png": "[encoded data removed]",
      "text/plain": [
       "<Figure size 432x288 with 1 Axes>"
      ]
     },
     "metadata": {
      "needs_background": "light"
     },
     "output_type": "display_data"
    }
   ],
   "source": [
    "from collections import defaultdict\n",
    "from gensim import corpora\n",
    "from gensim import models\n",
    "from gensim import similarities\n",
    "\n",
    "import matplotlib.pyplot as plt\n",
    "\n",
    "documents = [\n",
    "    \"Human machine interface for lab abc computer applications\",\n",
    "    \"A survey of user opinion of computer system response time\",\n",
    "    \"The EPS user interface management system\",\n",
    "    \"System and human system engineering testing of EPS\",\n",
    "    \"Relation of user perceived response time to error measurement\",\n",
    "    \"The generation of random binary unordered trees\",\n",
    "    \"The intersection graph of paths in trees\",\n",
    "    \"Graph minors IV Widths of trees and well quasi ordering\",\n",
    "    \"Graph minors A survey\",\n",
    "]\n",
    "\n",
    "# remove common words and tokenize\n",
    "stoplist = set('for a of the and to in'.split())\n",
    "texts = [\n",
    "    [word for word in document.lower().split() if word not in stoplist]\n",
    "    for document in documents\n",
    "]\n",
    "\n",
    "# remove words that appear only once\n",
    "frequency = defaultdict(int)\n",
    "for text in texts:\n",
    "    for token in text:\n",
    "        frequency[token] += 1\n",
    "\n",
    "texts = [\n",
    "    [token for token in text if frequency[token] > 1]\n",
    "    for text in texts\n",
    "]\n",
    "\n",
    "dictionary = corpora.Dictionary(texts)\n",
    "corpus = [dictionary.doc2bow(text) for text in texts]\n",
    "\n",
    "tfidf = models.TfidfModel(corpus)  # step 1 -- initialize a model\n",
    "corpus_tfidf = tfidf[corpus]\n",
    "\n",
    "lsi_model = models.LsiModel(corpus_tfidf, id2word=dictionary, num_topics=10) # initialize an LSI transformation\n",
    "corpus_lsi = lsi_model[corpus_tfidf] \n",
    "\n",
    "index = similarities.MatrixSimilarity(corpus_lsi)\n",
    "self_sims = index[corpus_lsi]\n",
    "\n",
    "plt.imshow(self_sims, aspect=\"auto\")\n",
    "\n",
    "#From LSI we converted the TFIDF to LSI vector space. Now, to get the classification, we should cluster the similarity matrix (as an example)\n",
    "from sklearn.cluster import KMeans\n",
    "\n",
    "kmeans = KMeans(n_clusters=2, random_state=0).fit(self_sims)\n",
    "pred = kmeans.labels_\n",
    "\n",
    "print(\"Predicted classification:\")\n",
    "print(pred)"
   ]
  },
  {
   "cell_type": "markdown",
   "id": "chicken-whole",
   "metadata": {},
   "source": [
    "## References\n",
    "\n",
    "- https://radimrehurek.com/gensim/auto_examples/core/run_topics_and_transformations.html#sphx-glr-auto-examples-core-run-topics-and-transformations-py"
   ]
  },
  {
   "cell_type": "code",
   "execution_count": null,
   "id": "appropriate-education",
   "metadata": {},
   "outputs": [],
   "source": []
  }
 ],
 "metadata": {
  "kernelspec": {
   "display_name": "Python 3",
   "language": "python",
   "name": "python3"
  },
  "language_info": {
   "codemirror_mode": {
    "name": "ipython",
    "version": 3
   },
   "file_extension": ".py",
   "mimetype": "text/x-python",
   "name": "python",
   "nbconvert_exporter": "python",
   "pygments_lexer": "ipython3",
   "version": "3.8.0"
  }
 },
 "nbformat": 4,
 "nbformat_minor": 5
}
