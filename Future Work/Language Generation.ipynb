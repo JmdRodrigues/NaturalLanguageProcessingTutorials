{
 "cells": [
  {
   "cell_type": "markdown",
   "id": "seventh-receiver",
   "metadata": {},
   "source": [
    "# Resources\n",
    "\n",
    "https://towardsdatascience.com/how-our-device-thinks-e1f5ab15071e"
   ]
  },
  {
   "cell_type": "code",
   "execution_count": null,
   "id": "speaking-nevada",
   "metadata": {},
   "outputs": [],
   "source": []
  }
 ],
 "metadata": {
  "kernelspec": {
   "display_name": "Python 3",
   "language": "python",
   "name": "python3"
  },
  "language_info": {
   "codemirror_mode": {
    "name": "ipython",
    "version": 3
   },
   "file_extension": ".py",
   "mimetype": "text/x-python",
   "name": "python",
   "nbconvert_exporter": "python",
   "pygments_lexer": "ipython3",
   "version": "3.8.0"
  }
 },
 "nbformat": 4,
 "nbformat_minor": 5
}
